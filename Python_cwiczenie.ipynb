{
  "nbformat": 4,
  "nbformat_minor": 0,
  "metadata": {
    "colab": {
      "provenance": [],
      "authorship_tag": "ABX9TyPV3SpnjwmFNoouWw19v1mu",
      "include_colab_link": true
    },
    "kernelspec": {
      "name": "python3",
      "display_name": "Python 3"
    },
    "language_info": {
      "name": "python"
    }
  },
  "cells": [
    {
      "cell_type": "markdown",
      "metadata": {
        "id": "view-in-github",
        "colab_type": "text"
      },
      "source": [
        "<a href=\"https://colab.research.google.com/github/rap05/kurs-python/blob/main/Python_cwiczenie.ipynb\" target=\"_parent\"><img src=\"https://colab.research.google.com/assets/colab-badge.svg\" alt=\"Open In Colab\"/></a>"
      ]
    },
    {
      "cell_type": "code",
      "execution_count": 5,
      "metadata": {
        "colab": {
          "base_uri": "https://localhost:8080/"
        },
        "id": "YVtlVFtbFBsS",
        "outputId": "8a54c765-1796-42a8-bd7c-6b4b415e5c71"
      },
      "outputs": [
        {
          "output_type": "stream",
          "name": "stdout",
          "text": [
            "Looking in indexes: https://pypi.org/simple, https://us-python.pkg.dev/colab-wheels/public/simple/\n",
            "Requirement already satisfied: opencv-python in /usr/local/lib/python3.9/dist-packages (4.7.0.72)\n",
            "Requirement already satisfied: numpy>=1.17.0 in /usr/local/lib/python3.9/dist-packages (from opencv-python) (1.22.4)\n"
          ]
        }
      ],
      "source": [
        "!pip install --upgrade opencv-python"
      ]
    },
    {
      "cell_type": "code",
      "source": [
        "from google.colab.patches import cv2_imshow\n",
        "import cv2\n",
        "\n",
        "cv2.__version__"
      ],
      "metadata": {
        "colab": {
          "base_uri": "https://localhost:8080/",
          "height": 35
        },
        "id": "SybxQwaGQUkH",
        "outputId": "b7a66b57-63d1-4ac4-b4d1-fb62cdf26242"
      },
      "execution_count": 7,
      "outputs": [
        {
          "output_type": "execute_result",
          "data": {
            "text/plain": [
              "'4.7.0'"
            ],
            "application/vnd.google.colaboratory.intrinsic+json": {
              "type": "string"
            }
          },
          "metadata": {},
          "execution_count": 7
        }
      ]
    },
    {
      "cell_type": "markdown",
      "source": [
        "### Wczytanie Obrazu"
      ],
      "metadata": {
        "id": "HjUvE6xLQ4z2"
      }
    },
    {
      "cell_type": "code",
      "source": [
        "img = cv2.imread(filename='view.jpg')\n",
        "img"
      ],
      "metadata": {
        "id": "Qv2jhtAcQ8c2"
      },
      "execution_count": null,
      "outputs": []
    },
    {
      "cell_type": "code",
      "source": [
        "cv2_imshow(img)"
      ],
      "metadata": {
        "id": "uRtaAEWbR5a5"
      },
      "execution_count": null,
      "outputs": []
    },
    {
      "cell_type": "code",
      "source": [
        "img.shape"
      ],
      "metadata": {
        "id": "a9ypd0DISB67"
      },
      "execution_count": null,
      "outputs": []
    },
    {
      "cell_type": "markdown",
      "source": [
        "### Zapisywanie Obrazu Do Komórki"
      ],
      "metadata": {
        "id": "b_fbBAtTS26f"
      }
    },
    {
      "cell_type": "code",
      "source": [
        "cv2.imwrite(filename='view-copy.png', img=img)"
      ],
      "metadata": {
        "id": "9-BHSZc5S7Nl"
      },
      "execution_count": null,
      "outputs": []
    },
    {
      "cell_type": "markdown",
      "source": [
        "### Wczytanie Obrazu W Odcieniach Szarości"
      ],
      "metadata": {
        "id": "l3jLJC4yTtbu"
      }
    },
    {
      "cell_type": "code",
      "source": [
        "img = cv2.imread(filename='view.jpg', flags=cv2.IMREAD_GRAYSCALE)\n",
        "img"
      ],
      "metadata": {
        "id": "seJd6G7pT29m"
      },
      "execution_count": null,
      "outputs": []
    },
    {
      "cell_type": "code",
      "source": [
        "cv2_imshow(img)"
      ],
      "metadata": {
        "id": "RRdbVibAUS6U"
      },
      "execution_count": null,
      "outputs": []
    },
    {
      "cell_type": "code",
      "source": [
        "img.shape"
      ],
      "metadata": {
        "id": "C8X8TXCCUYf0"
      },
      "execution_count": null,
      "outputs": []
    },
    {
      "cell_type": "markdown",
      "source": [
        "### Dodawanie Obrazów"
      ],
      "metadata": {
        "id": "9tO-_5AmUySl"
      }
    },
    {
      "cell_type": "code",
      "source": [
        "img1 = cv2.imread(filename='view.jpg')\n",
        "img2 = cv2.imread(filename='view2.jpg')"
      ],
      "metadata": {
        "id": "015mfqNrU1Yc"
      },
      "execution_count": 89,
      "outputs": []
    },
    {
      "cell_type": "code",
      "source": [
        "add_img = cv2.add(src1=img1, src2=img2)\n",
        "add_img.shape"
      ],
      "metadata": {
        "id": "9rLZL6G9WdAh"
      },
      "execution_count": null,
      "outputs": []
    },
    {
      "cell_type": "code",
      "source": [
        "cv2_imshow(add_img)"
      ],
      "metadata": {
        "id": "H2cnJXwLWtAU"
      },
      "execution_count": null,
      "outputs": []
    },
    {
      "cell_type": "markdown",
      "source": [
        "### Blendowanie"
      ],
      "metadata": {
        "id": "C6Gkj9bTayGc"
      }
    },
    {
      "cell_type": "code",
      "source": [
        "img1.shape"
      ],
      "metadata": {
        "id": "MCnbConNa1ff"
      },
      "execution_count": null,
      "outputs": []
    },
    {
      "cell_type": "code",
      "source": [
        "img2.shape"
      ],
      "metadata": {
        "id": "1w8XqNgba58H"
      },
      "execution_count": null,
      "outputs": []
    },
    {
      "cell_type": "code",
      "source": [
        "cv2_imshow(img1)"
      ],
      "metadata": {
        "id": "3gYnTCLta8lr"
      },
      "execution_count": null,
      "outputs": []
    },
    {
      "cell_type": "code",
      "source": [
        "cv2_imshow(img2)"
      ],
      "metadata": {
        "id": "ZaS-iKF5a_3T"
      },
      "execution_count": null,
      "outputs": []
    },
    {
      "cell_type": "code",
      "source": [
        "dst = cv2.addWeighted(src1=img1, alpha=0.3, src2=img2, beta=0.7, gamma=0)\n",
        "cv2_imshow(dst)"
      ],
      "metadata": {
        "id": "R16Hx9yMbDt3"
      },
      "execution_count": null,
      "outputs": []
    },
    {
      "cell_type": "markdown",
      "source": [
        "### Wycinanie Fragmentów Obrazu"
      ],
      "metadata": {
        "id": "HtJxhHJjdtpw"
      }
    },
    {
      "cell_type": "code",
      "source": [
        "img = cv2.imread(filename='view.jpg')\n",
        "cv2_imshow(img)"
      ],
      "metadata": {
        "id": "57hJv7zAdyX3"
      },
      "execution_count": null,
      "outputs": []
    },
    {
      "cell_type": "code",
      "source": [
        "left_top_square = img[:200, :200]\n",
        "print(left_top_square.shape)\n",
        "cv2_imshow(left_top_square)"
      ],
      "metadata": {
        "id": "iW1PzB0DeIR_"
      },
      "execution_count": null,
      "outputs": []
    },
    {
      "cell_type": "code",
      "source": [
        "right_top_square = img[-200:, :200]\n",
        "print(right_top_square.shape)\n",
        "cv2_imshow(right_top_square)"
      ],
      "metadata": {
        "id": "KybVpvbqeqlR"
      },
      "execution_count": null,
      "outputs": []
    },
    {
      "cell_type": "code",
      "source": [
        "left_bottom_square = img[:200, -200:]\n",
        "print(left_bottom_square.shape)\n",
        "cv2_imshow(left_bottom_square)"
      ],
      "metadata": {
        "id": "IJVkbie-fCzh"
      },
      "execution_count": null,
      "outputs": []
    },
    {
      "cell_type": "code",
      "source": [
        "right_bottom_square = img[-200:, -200:]\n",
        "print(right_bottom_square.shape)\n",
        "cv2_imshow(right_bottom_square)"
      ],
      "metadata": {
        "id": "602zohuxfi-J"
      },
      "execution_count": null,
      "outputs": []
    },
    {
      "cell_type": "code",
      "source": [
        "height, width, _ = img.shape\n",
        "h0 = height // 2 - 100\n",
        "h1 = height // 2 + 100\n",
        "w0 = width // 2 - 100\n",
        "w1 = width // 2 + 100\n",
        "\n",
        "middle = img[h0:h1, w0:w1]\n",
        "cv2_imshow(middle)"
      ],
      "metadata": {
        "id": "drem67E7iccc"
      },
      "execution_count": null,
      "outputs": []
    },
    {
      "cell_type": "markdown",
      "source": [
        "### Modyfikowanie Obrazu"
      ],
      "metadata": {
        "id": "ipmBSA3Aje5z"
      }
    },
    {
      "cell_type": "code",
      "source": [
        "img[h0:h1, w0:w1] = 0\n",
        "cv2_imshow(img)"
      ],
      "metadata": {
        "id": "oh7TDj5kji4N"
      },
      "execution_count": null,
      "outputs": []
    },
    {
      "cell_type": "code",
      "source": [
        "img[h0:h1, w0:w1] = 255\n",
        "cv2_imshow(img)"
      ],
      "metadata": {
        "id": "4GvwuxHYkDBM"
      },
      "execution_count": null,
      "outputs": []
    },
    {
      "cell_type": "code",
      "source": [
        "img[h0:h1, w0:w1] = 128\n",
        "cv2_imshow(img)"
      ],
      "metadata": {
        "id": "yuZGA_QbkWR-"
      },
      "execution_count": null,
      "outputs": []
    },
    {
      "cell_type": "code",
      "source": [
        "img.shape"
      ],
      "metadata": {
        "id": "vP4ypygtkhF3"
      },
      "execution_count": null,
      "outputs": []
    },
    {
      "cell_type": "code",
      "source": [
        "img.size"
      ],
      "metadata": {
        "id": "zwLrB7Cfk3_f"
      },
      "execution_count": null,
      "outputs": []
    },
    {
      "cell_type": "code",
      "source": [
        "img.dtype"
      ],
      "metadata": {
        "id": "g8niJA8xk8zH"
      },
      "execution_count": null,
      "outputs": []
    },
    {
      "cell_type": "code",
      "source": [
        "img = cv2.imread(filename='view.jpg')\n",
        "cv2_imshow(img)"
      ],
      "metadata": {
        "id": "htdH5K3Lljum"
      },
      "execution_count": null,
      "outputs": []
    },
    {
      "cell_type": "code",
      "source": [
        "sun = img[70:200, 450:600]\n",
        "cv2_imshow(sun)"
      ],
      "metadata": {
        "id": "oZto3AJgl1pO"
      },
      "execution_count": null,
      "outputs": []
    },
    {
      "cell_type": "code",
      "source": [
        "sun.shape"
      ],
      "metadata": {
        "id": "WmZrYDjvn3Wr"
      },
      "execution_count": null,
      "outputs": []
    },
    {
      "cell_type": "code",
      "source": [
        "img[70:200, 300:450] = sun\n",
        "cv2_imshow(img)"
      ],
      "metadata": {
        "id": "L0Jb3ceRoL_s"
      },
      "execution_count": null,
      "outputs": []
    },
    {
      "cell_type": "markdown",
      "source": [
        "### Tworzenie Obramowania"
      ],
      "metadata": {
        "id": "me56EUZCtvzI"
      }
    },
    {
      "cell_type": "code",
      "source": [
        "img = cv2.imread('view2.jpg')\n",
        "cv2_imshow(img)"
      ],
      "metadata": {
        "id": "r258OeErtyST"
      },
      "execution_count": null,
      "outputs": []
    },
    {
      "cell_type": "code",
      "source": [
        "replicate = cv2.copyMakeBorder(src=img, top=50, bottom=50, left=50, right=50,\n",
        "                               borderType=cv2.BORDER_REPLICATE)\n",
        "cv2_imshow(replicate)"
      ],
      "metadata": {
        "id": "AFXIg6HnuDOB"
      },
      "execution_count": null,
      "outputs": []
    },
    {
      "cell_type": "code",
      "source": [
        "reflect = cv2.copyMakeBorder(src=img, top=50, bottom=50, left=50, right=50,\n",
        "                             borderType=cv2.BORDER_REFLECT)\n",
        "cv2_imshow(reflect)"
      ],
      "metadata": {
        "id": "ld_Dx4PIu1up"
      },
      "execution_count": null,
      "outputs": []
    },
    {
      "cell_type": "code",
      "source": [
        "wrap = cv2.copyMakeBorder(src=img, top=50, bottom=50, left=50, right=50,\n",
        "                          borderType=cv2.BORDER_WRAP)\n",
        "cv2_imshow(wrap)"
      ],
      "metadata": {
        "id": "IHfDO8Ymvfss"
      },
      "execution_count": null,
      "outputs": []
    },
    {
      "cell_type": "code",
      "source": [
        "isolated = cv2.copyMakeBorder(src=img, top=50, bottom=50, left=50, right=50,\n",
        "                              borderType=cv2.BORDER_ISOLATED)\n",
        "cv2_imshow(isolated)"
      ],
      "metadata": {
        "id": "abfa3OlMv-16"
      },
      "execution_count": null,
      "outputs": []
    }
  ]
}