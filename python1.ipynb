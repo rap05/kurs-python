{
  "nbformat": 4,
  "nbformat_minor": 0,
  "metadata": {
    "colab": {
      "provenance": [],
      "collapsed_sections": [
        "3r_H0flWW5G5",
        "HjUvE6xLQ4z2",
        "b_fbBAtTS26f",
        "l3jLJC4yTtbu",
        "9tO-_5AmUySl",
        "C6Gkj9bTayGc",
        "HtJxhHJjdtpw",
        "ipmBSA3Aje5z",
        "me56EUZCtvzI",
        "1AJRypjiyZ7x",
        "DOxRjlMWy5VZ",
        "EvSxAm051ELy",
        "w0sHSjojCmfk",
        "QbTAu5m8IREU",
        "jpxxmTtONcyS",
        "ysR2xziNPj_i",
        "74-UkFlCVX1H",
        "BdF91DFXXJgo",
        "7pDeGzRVX84I",
        "hp424Hg_YbDN",
        "eYv1YKqtaQDe"
      ],
      "authorship_tag": "ABX9TyPqUTbwJaJTKT7xdrUuce3f",
      "include_colab_link": true
    },
    "kernelspec": {
      "name": "python3",
      "display_name": "Python 3"
    },
    "language_info": {
      "name": "python"
    }
  },
  "cells": [
    {
      "cell_type": "markdown",
      "metadata": {
        "id": "view-in-github",
        "colab_type": "text"
      },
      "source": [
        "<a href=\"https://colab.research.google.com/github/rap05/kurs-python/blob/main/python1.ipynb\" target=\"_parent\"><img src=\"https://colab.research.google.com/assets/colab-badge.svg\" alt=\"Open In Colab\"/></a>"
      ]
    },
    {
      "cell_type": "markdown",
      "source": [
        "### Instalacja I Import Bibliotek"
      ],
      "metadata": {
        "id": "3r_H0flWW5G5"
      }
    },
    {
      "cell_type": "markdown",
      "source": [],
      "metadata": {
        "id": "wu5bJYf0W3fG"
      }
    },
    {
      "cell_type": "code",
      "execution_count": 5,
      "metadata": {
        "colab": {
          "base_uri": "https://localhost:8080/"
        },
        "id": "YVtlVFtbFBsS",
        "outputId": "8a54c765-1796-42a8-bd7c-6b4b415e5c71"
      },
      "outputs": [
        {
          "output_type": "stream",
          "name": "stdout",
          "text": [
            "Looking in indexes: https://pypi.org/simple, https://us-python.pkg.dev/colab-wheels/public/simple/\n",
            "Requirement already satisfied: opencv-python in /usr/local/lib/python3.9/dist-packages (4.7.0.72)\n",
            "Requirement already satisfied: numpy>=1.17.0 in /usr/local/lib/python3.9/dist-packages (from opencv-python) (1.22.4)\n"
          ]
        }
      ],
      "source": [
        "!pip install --upgrade opencv-python"
      ]
    },
    {
      "cell_type": "code",
      "source": [
        "from google.colab.patches import cv2_imshow\n",
        "import cv2\n",
        "\n",
        "cv2.__version__"
      ],
      "metadata": {
        "colab": {
          "base_uri": "https://localhost:8080/",
          "height": 35
        },
        "id": "SybxQwaGQUkH",
        "outputId": "b7a66b57-63d1-4ac4-b4d1-fb62cdf26242"
      },
      "execution_count": 7,
      "outputs": [
        {
          "output_type": "execute_result",
          "data": {
            "text/plain": [
              "'4.7.0'"
            ],
            "application/vnd.google.colaboratory.intrinsic+json": {
              "type": "string"
            }
          },
          "metadata": {},
          "execution_count": 7
        }
      ]
    },
    {
      "cell_type": "markdown",
      "source": [
        "### Wczytanie Obrazu"
      ],
      "metadata": {
        "id": "HjUvE6xLQ4z2"
      }
    },
    {
      "cell_type": "code",
      "source": [
        "img = cv2.imread(filename='view.jpg')\n",
        "img"
      ],
      "metadata": {
        "id": "Qv2jhtAcQ8c2"
      },
      "execution_count": null,
      "outputs": []
    },
    {
      "cell_type": "code",
      "source": [
        "cv2_imshow(img)"
      ],
      "metadata": {
        "id": "uRtaAEWbR5a5"
      },
      "execution_count": null,
      "outputs": []
    },
    {
      "cell_type": "code",
      "source": [
        "img.shape"
      ],
      "metadata": {
        "id": "a9ypd0DISB67"
      },
      "execution_count": null,
      "outputs": []
    },
    {
      "cell_type": "markdown",
      "source": [
        "### Zapisywanie Obrazu Do Komórki"
      ],
      "metadata": {
        "id": "b_fbBAtTS26f"
      }
    },
    {
      "cell_type": "code",
      "source": [
        "cv2.imwrite(filename='view-copy.png', img=img)"
      ],
      "metadata": {
        "colab": {
          "base_uri": "https://localhost:8080/"
        },
        "id": "9-BHSZc5S7Nl",
        "outputId": "57d58ff4-fcbc-4157-9498-45d09e5a4940"
      },
      "execution_count": 327,
      "outputs": [
        {
          "output_type": "execute_result",
          "data": {
            "text/plain": [
              "True"
            ]
          },
          "metadata": {},
          "execution_count": 327
        }
      ]
    },
    {
      "cell_type": "markdown",
      "source": [
        "### Wczytanie Obrazu W Odcieniach Szarości"
      ],
      "metadata": {
        "id": "l3jLJC4yTtbu"
      }
    },
    {
      "cell_type": "code",
      "source": [
        "img = cv2.imread(filename='view.jpg', flags=cv2.IMREAD_GRAYSCALE)\n",
        "img"
      ],
      "metadata": {
        "id": "seJd6G7pT29m"
      },
      "execution_count": null,
      "outputs": []
    },
    {
      "cell_type": "code",
      "source": [
        "cv2_imshow(img)"
      ],
      "metadata": {
        "id": "RRdbVibAUS6U"
      },
      "execution_count": null,
      "outputs": []
    },
    {
      "cell_type": "code",
      "source": [
        "img.shape"
      ],
      "metadata": {
        "id": "C8X8TXCCUYf0"
      },
      "execution_count": null,
      "outputs": []
    },
    {
      "cell_type": "markdown",
      "source": [
        "### Dodawanie Obrazów"
      ],
      "metadata": {
        "id": "9tO-_5AmUySl"
      }
    },
    {
      "cell_type": "code",
      "source": [
        "img1 = cv2.imread(filename='view.jpg')\n",
        "img2 = cv2.imread(filename='view2.jpg')"
      ],
      "metadata": {
        "id": "015mfqNrU1Yc"
      },
      "execution_count": 89,
      "outputs": []
    },
    {
      "cell_type": "code",
      "source": [
        "add_img = cv2.add(src1=img1, src2=img2)\n",
        "add_img.shape"
      ],
      "metadata": {
        "id": "9rLZL6G9WdAh"
      },
      "execution_count": null,
      "outputs": []
    },
    {
      "cell_type": "code",
      "source": [
        "cv2_imshow(add_img)"
      ],
      "metadata": {
        "id": "H2cnJXwLWtAU"
      },
      "execution_count": null,
      "outputs": []
    },
    {
      "cell_type": "markdown",
      "source": [
        "### Blendowanie"
      ],
      "metadata": {
        "id": "C6Gkj9bTayGc"
      }
    },
    {
      "cell_type": "code",
      "source": [
        "img1.shape"
      ],
      "metadata": {
        "id": "MCnbConNa1ff"
      },
      "execution_count": null,
      "outputs": []
    },
    {
      "cell_type": "code",
      "source": [
        "img2.shape"
      ],
      "metadata": {
        "id": "1w8XqNgba58H"
      },
      "execution_count": null,
      "outputs": []
    },
    {
      "cell_type": "code",
      "source": [
        "cv2_imshow(img1)"
      ],
      "metadata": {
        "id": "3gYnTCLta8lr"
      },
      "execution_count": null,
      "outputs": []
    },
    {
      "cell_type": "code",
      "source": [
        "cv2_imshow(img2)"
      ],
      "metadata": {
        "id": "ZaS-iKF5a_3T"
      },
      "execution_count": null,
      "outputs": []
    },
    {
      "cell_type": "code",
      "source": [
        "dst = cv2.addWeighted(src1=img1, alpha=0.3, src2=img2, beta=0.7, gamma=0)\n",
        "cv2_imshow(dst)"
      ],
      "metadata": {
        "id": "R16Hx9yMbDt3"
      },
      "execution_count": null,
      "outputs": []
    },
    {
      "cell_type": "markdown",
      "source": [
        "### Wycinanie Fragmentów Obrazu"
      ],
      "metadata": {
        "id": "HtJxhHJjdtpw"
      }
    },
    {
      "cell_type": "code",
      "source": [
        "img = cv2.imread(filename='view.jpg')\n",
        "cv2_imshow(img)"
      ],
      "metadata": {
        "id": "57hJv7zAdyX3"
      },
      "execution_count": null,
      "outputs": []
    },
    {
      "cell_type": "code",
      "source": [
        "left_top_square = img[:200, :200]\n",
        "print(left_top_square.shape)\n",
        "cv2_imshow(left_top_square)"
      ],
      "metadata": {
        "id": "iW1PzB0DeIR_"
      },
      "execution_count": null,
      "outputs": []
    },
    {
      "cell_type": "code",
      "source": [
        "right_top_square = img[-200:, :200]\n",
        "print(right_top_square.shape)\n",
        "cv2_imshow(right_top_square)"
      ],
      "metadata": {
        "id": "KybVpvbqeqlR"
      },
      "execution_count": null,
      "outputs": []
    },
    {
      "cell_type": "code",
      "source": [
        "left_bottom_square = img[:200, -200:]\n",
        "print(left_bottom_square.shape)\n",
        "cv2_imshow(left_bottom_square)"
      ],
      "metadata": {
        "id": "IJVkbie-fCzh"
      },
      "execution_count": null,
      "outputs": []
    },
    {
      "cell_type": "code",
      "source": [
        "right_bottom_square = img[-200:, -200:]\n",
        "print(right_bottom_square.shape)\n",
        "cv2_imshow(right_bottom_square)"
      ],
      "metadata": {
        "id": "602zohuxfi-J"
      },
      "execution_count": null,
      "outputs": []
    },
    {
      "cell_type": "code",
      "source": [
        "height, width, _ = img.shape\n",
        "h0 = height // 2 - 100\n",
        "h1 = height // 2 + 100\n",
        "w0 = width // 2 - 100\n",
        "w1 = width // 2 + 100\n",
        "\n",
        "middle = img[h0:h1, w0:w1]\n",
        "cv2_imshow(middle)"
      ],
      "metadata": {
        "id": "drem67E7iccc"
      },
      "execution_count": null,
      "outputs": []
    },
    {
      "cell_type": "markdown",
      "source": [
        "### Modyfikowanie Obrazu"
      ],
      "metadata": {
        "id": "ipmBSA3Aje5z"
      }
    },
    {
      "cell_type": "code",
      "source": [
        "img[h0:h1, w0:w1] = 0\n",
        "cv2_imshow(img)"
      ],
      "metadata": {
        "id": "oh7TDj5kji4N"
      },
      "execution_count": null,
      "outputs": []
    },
    {
      "cell_type": "code",
      "source": [
        "img[h0:h1, w0:w1] = 255\n",
        "cv2_imshow(img)"
      ],
      "metadata": {
        "id": "4GvwuxHYkDBM"
      },
      "execution_count": null,
      "outputs": []
    },
    {
      "cell_type": "code",
      "source": [
        "img[h0:h1, w0:w1] = 128\n",
        "cv2_imshow(img)"
      ],
      "metadata": {
        "id": "yuZGA_QbkWR-"
      },
      "execution_count": null,
      "outputs": []
    },
    {
      "cell_type": "code",
      "source": [
        "img.shape"
      ],
      "metadata": {
        "id": "vP4ypygtkhF3"
      },
      "execution_count": null,
      "outputs": []
    },
    {
      "cell_type": "code",
      "source": [
        "img.size"
      ],
      "metadata": {
        "id": "zwLrB7Cfk3_f"
      },
      "execution_count": null,
      "outputs": []
    },
    {
      "cell_type": "code",
      "source": [
        "img.dtype"
      ],
      "metadata": {
        "id": "g8niJA8xk8zH"
      },
      "execution_count": null,
      "outputs": []
    },
    {
      "cell_type": "code",
      "source": [
        "img = cv2.imread(filename='view.jpg')\n",
        "cv2_imshow(img)"
      ],
      "metadata": {
        "id": "htdH5K3Lljum"
      },
      "execution_count": null,
      "outputs": []
    },
    {
      "cell_type": "code",
      "source": [
        "sun = img[70:200, 450:600]\n",
        "cv2_imshow(sun)"
      ],
      "metadata": {
        "id": "oZto3AJgl1pO"
      },
      "execution_count": null,
      "outputs": []
    },
    {
      "cell_type": "code",
      "source": [
        "sun.shape"
      ],
      "metadata": {
        "id": "WmZrYDjvn3Wr"
      },
      "execution_count": null,
      "outputs": []
    },
    {
      "cell_type": "code",
      "source": [
        "img[70:200, 300:450] = sun\n",
        "cv2_imshow(img)"
      ],
      "metadata": {
        "id": "L0Jb3ceRoL_s"
      },
      "execution_count": null,
      "outputs": []
    },
    {
      "cell_type": "markdown",
      "source": [
        "### Tworzenie Obramowania"
      ],
      "metadata": {
        "id": "me56EUZCtvzI"
      }
    },
    {
      "cell_type": "code",
      "source": [
        "img = cv2.imread('view2.jpg')\n",
        "cv2_imshow(img)"
      ],
      "metadata": {
        "id": "r258OeErtyST"
      },
      "execution_count": null,
      "outputs": []
    },
    {
      "cell_type": "code",
      "source": [
        "replicate = cv2.copyMakeBorder(src=img, top=50, bottom=50, left=50, right=50,\n",
        "                               borderType=cv2.BORDER_REPLICATE)\n",
        "cv2_imshow(replicate)"
      ],
      "metadata": {
        "id": "AFXIg6HnuDOB"
      },
      "execution_count": null,
      "outputs": []
    },
    {
      "cell_type": "code",
      "source": [
        "reflect = cv2.copyMakeBorder(src=img, top=50, bottom=50, left=50, right=50,\n",
        "                             borderType=cv2.BORDER_REFLECT)\n",
        "cv2_imshow(reflect)"
      ],
      "metadata": {
        "id": "ld_Dx4PIu1up"
      },
      "execution_count": null,
      "outputs": []
    },
    {
      "cell_type": "code",
      "source": [
        "wrap = cv2.copyMakeBorder(src=img, top=50, bottom=50, left=50, right=50,\n",
        "                          borderType=cv2.BORDER_WRAP)\n",
        "cv2_imshow(wrap)"
      ],
      "metadata": {
        "id": "IHfDO8Ymvfss"
      },
      "execution_count": null,
      "outputs": []
    },
    {
      "cell_type": "code",
      "source": [
        "isolated = cv2.copyMakeBorder(src=img, top=50, bottom=50, left=50, right=50,\n",
        "                              borderType=cv2.BORDER_ISOLATED)\n",
        "cv2_imshow(isolated)"
      ],
      "metadata": {
        "id": "abfa3OlMv-16"
      },
      "execution_count": null,
      "outputs": []
    },
    {
      "cell_type": "markdown",
      "source": [
        "### Instalacja i Import Bibliotek 2"
      ],
      "metadata": {
        "id": "1AJRypjiyZ7x"
      }
    },
    {
      "cell_type": "code",
      "source": [
        "from google.colab.patches import cv2_imshow\n",
        "import imutils\n",
        "import numpy as np\n",
        "import cv2\n",
        "\n",
        "cv2.__version__"
      ],
      "metadata": {
        "id": "UeOMLiE8yV63"
      },
      "execution_count": null,
      "outputs": []
    },
    {
      "cell_type": "markdown",
      "source": [
        "### Zmiana Rozmiaru Zdjęcia"
      ],
      "metadata": {
        "id": "DOxRjlMWy5VZ"
      }
    },
    {
      "cell_type": "code",
      "source": [
        "img = cv2.imread('view2.jpg')\n",
        "cv2_imshow(img)"
      ],
      "metadata": {
        "id": "RrT_BSWiy_5x"
      },
      "execution_count": null,
      "outputs": []
    },
    {
      "cell_type": "code",
      "source": [
        "img_resized = imutils.resize(image=img, height=300)\n",
        "cv2_imshow(img_resized)"
      ],
      "metadata": {
        "id": "gXk4YP7XzdP5"
      },
      "execution_count": null,
      "outputs": []
    },
    {
      "cell_type": "code",
      "source": [
        "img_resized = imutils.resize(image=img, width=300)\n",
        "cv2_imshow(img_resized)"
      ],
      "metadata": {
        "id": "vZnwQ9pHzydr"
      },
      "execution_count": null,
      "outputs": []
    },
    {
      "cell_type": "markdown",
      "source": [
        "### Rotacja"
      ],
      "metadata": {
        "id": "EvSxAm051ELy"
      }
    },
    {
      "cell_type": "code",
      "source": [
        "height, width = img.shape[:2]\n",
        "\n",
        "M = cv2.getRotationMatrix2D(center=(height // 2, width //3), angle=-45, scale=0.5)\n",
        "cv2_imshow(cv2.warpAffine(src=img, M=M, dsize=(width, height)))"
      ],
      "metadata": {
        "id": "6XDBfPEj1HAf"
      },
      "execution_count": null,
      "outputs": []
    },
    {
      "cell_type": "code",
      "source": [
        "M = cv2.getRotationMatrix2D(center=(height // 2, width //2), angle=45, scale=0.5)\n",
        "cv2_imshow(cv2.warpAffine(src=img, M=M, dsize=(width, height)))"
      ],
      "metadata": {
        "id": "2tasOFf9AhDU"
      },
      "execution_count": null,
      "outputs": []
    },
    {
      "cell_type": "code",
      "source": [
        "M = cv2.getRotationMatrix2D(center=(height // 2, width //2), angle=45, scale=0.8)\n",
        "cv2_imshow(cv2.warpAffine(src=img, M=M, dsize=(width, height)))"
      ],
      "metadata": {
        "id": "hQAA5LAuAnyo"
      },
      "execution_count": null,
      "outputs": []
    },
    {
      "cell_type": "markdown",
      "source": [
        "### Progowanie"
      ],
      "metadata": {
        "id": "w0sHSjojCmfk"
      }
    },
    {
      "cell_type": "code",
      "source": [
        "gray = cv2.cvtColor(src=img, code=cv2.COLOR_BGR2GRAY)\n",
        "cv2_imshow(gray)"
      ],
      "metadata": {
        "id": "WvIj1Eg_Cqjc"
      },
      "execution_count": null,
      "outputs": []
    },
    {
      "cell_type": "code",
      "source": [
        "cv2_imshow(cv2.threshold(src=gray, thresh=50, maxval=255, type=cv2.THRESH_BINARY)[1])"
      ],
      "metadata": {
        "id": "dLsWoex3GMc3"
      },
      "execution_count": null,
      "outputs": []
    },
    {
      "cell_type": "markdown",
      "source": [
        "### Splot i Wygładzanie"
      ],
      "metadata": {
        "id": "QbTAu5m8IREU"
      }
    },
    {
      "cell_type": "code",
      "source": [
        "kernel = np.ones(shape=(5, 5), dtype=np.float32) / 25\n",
        "kernel"
      ],
      "metadata": {
        "id": "sZL30wt-ITvn"
      },
      "execution_count": null,
      "outputs": []
    },
    {
      "cell_type": "code",
      "source": [
        "cv2_imshow(img)"
      ],
      "metadata": {
        "id": "3SfJ7hk3Ir65"
      },
      "execution_count": null,
      "outputs": []
    },
    {
      "cell_type": "code",
      "source": [
        "cv2_imshow(cv2.filter2D(src=img, ddepth=-1, kernel=kernel))"
      ],
      "metadata": {
        "id": "yATHrVhgIwGE"
      },
      "execution_count": null,
      "outputs": []
    },
    {
      "cell_type": "code",
      "source": [
        "kernel = np.ones(shape=(5, 5), dtype=np.float32) / 20\n",
        "cv2_imshow(cv2.filter2D(src=img, ddepth=-1, kernel=kernel))"
      ],
      "metadata": {
        "id": "AsQJ27oXJDpf"
      },
      "execution_count": null,
      "outputs": []
    },
    {
      "cell_type": "code",
      "source": [
        "kernel = np.array([[-1, 0, 1],\n",
        "                   [-1, 0, 1],\n",
        "                   [-1, 0, 1]])\n",
        "cv2_imshow(cv2.filter2D(src=img, ddepth=-1, kernel=kernel))"
      ],
      "metadata": {
        "id": "7Iody7lwKKTu"
      },
      "execution_count": null,
      "outputs": []
    },
    {
      "cell_type": "code",
      "source": [
        "kernel = np.array([[-1, 0, 1],\n",
        "                   [-5, 0, 5],\n",
        "                   [-1, 0, 1]])\n",
        "cv2_imshow(cv2.filter2D(src=img, ddepth=-1, kernel=kernel))"
      ],
      "metadata": {
        "id": "T5D8sudbLC05"
      },
      "execution_count": null,
      "outputs": []
    },
    {
      "cell_type": "code",
      "source": [
        "cv2_imshow(cv2.blur(src=img, ksize=(5, 5)))"
      ],
      "metadata": {
        "id": "gbvamP8FLYVA"
      },
      "execution_count": null,
      "outputs": []
    },
    {
      "cell_type": "code",
      "source": [
        "cv2_imshow(cv2.Laplacian(src=img, ddepth=cv2.CV_64F))"
      ],
      "metadata": {
        "id": "FwzqMZKcLoU5"
      },
      "execution_count": null,
      "outputs": []
    },
    {
      "cell_type": "code",
      "source": [
        "cv2_imshow(cv2.Sobel(src=img, ddepth=cv2.CV_64F, dx=1, dy=0))"
      ],
      "metadata": {
        "id": "Ew9zPSTPMA_t"
      },
      "execution_count": null,
      "outputs": []
    },
    {
      "cell_type": "code",
      "source": [
        "cv2_imshow(cv2.Sobel(src=img, ddepth=cv2.CV_64F, dx=0, dy=1))"
      ],
      "metadata": {
        "id": "j97BO319Meed"
      },
      "execution_count": null,
      "outputs": []
    },
    {
      "cell_type": "markdown",
      "source": [
        "### Generowanie Losowego Obrazu"
      ],
      "metadata": {
        "id": "jpxxmTtONcyS"
      }
    },
    {
      "cell_type": "code",
      "source": [
        "array = np.random.randint(low=0, high=256, size=(400, 500))\n",
        "array"
      ],
      "metadata": {
        "id": "WBuBig2KNiOq"
      },
      "execution_count": null,
      "outputs": []
    },
    {
      "cell_type": "code",
      "source": [
        "cv2_imshow(array)"
      ],
      "metadata": {
        "id": "gamzbljsN-nK"
      },
      "execution_count": null,
      "outputs": []
    },
    {
      "cell_type": "code",
      "source": [
        "array = np.random.randint(low=0, high=256, size=(400, 500, 3))\n",
        "array"
      ],
      "metadata": {
        "id": "zDHjqk00ORFu"
      },
      "execution_count": null,
      "outputs": []
    },
    {
      "cell_type": "code",
      "source": [
        "cv2_imshow(array)"
      ],
      "metadata": {
        "id": "UR18nRI-OVBQ"
      },
      "execution_count": null,
      "outputs": []
    },
    {
      "cell_type": "code",
      "source": [
        "array = np.zeros(shape=(200, 300))\n",
        "cv2_imshow(array)"
      ],
      "metadata": {
        "id": "gtYdskf8OkEC"
      },
      "execution_count": null,
      "outputs": []
    },
    {
      "cell_type": "code",
      "source": [
        "array = np.full(shape=(200, 300), fill_value=255)\n",
        "cv2_imshow(array)"
      ],
      "metadata": {
        "id": "UShFsmwcO3Oj"
      },
      "execution_count": null,
      "outputs": []
    },
    {
      "cell_type": "markdown",
      "source": [
        "### Detekcja Krawędzi"
      ],
      "metadata": {
        "id": "ysR2xziNPj_i"
      }
    },
    {
      "cell_type": "code",
      "source": [
        "logo = cv2.imread('python.png')\n",
        "cv2_imshow(logo)"
      ],
      "metadata": {
        "id": "Y_3yGrINPndZ"
      },
      "execution_count": null,
      "outputs": []
    },
    {
      "cell_type": "code",
      "source": [
        "kernel_vertical = np.array([[-1, 0, 1], [-2, 0, 2], [-1, 0, 1]])\n",
        "output = cv2.filter2D(src=logo, ddepth=-1, kernel=kernel_vertical)\n",
        "cv2_imshow(output)"
      ],
      "metadata": {
        "id": "bnPkTHwXQCV6"
      },
      "execution_count": null,
      "outputs": []
    },
    {
      "cell_type": "code",
      "source": [
        "kernel_vertical = np.array([[-1, -2, -1], [0, 0, 0], [1, 2, 1]])\n",
        "output = cv2.filter2D(src=logo, ddepth=-1, kernel=kernel_vertical)\n",
        "cv2_imshow(output)"
      ],
      "metadata": {
        "id": "eRW3qQf5QwfW"
      },
      "execution_count": null,
      "outputs": []
    },
    {
      "cell_type": "code",
      "source": [
        "logo = cv2.imread('python.png', flags=cv2.IMREAD_GRAYSCALE)\n",
        "cv2_imshow(logo)"
      ],
      "metadata": {
        "id": "OYnT1cxDRMXy"
      },
      "execution_count": null,
      "outputs": []
    },
    {
      "cell_type": "code",
      "source": [
        "cv2_imshow(cv2.filter2D(src=logo, ddepth=-1, kernel=kernel_vertical))"
      ],
      "metadata": {
        "id": "pRMPnl5fRpxC"
      },
      "execution_count": null,
      "outputs": []
    },
    {
      "cell_type": "markdown",
      "source": [
        "sobel"
      ],
      "metadata": {
        "id": "tweVOTllTjkY"
      }
    },
    {
      "cell_type": "code",
      "source": [
        "cv2_imshow(cv2.Sobel(src=logo, ddepth=cv2.CV_64F, dx=1, dy=0, ksize=5))"
      ],
      "metadata": {
        "id": "tsHE2BQuR_kV"
      },
      "execution_count": null,
      "outputs": []
    },
    {
      "cell_type": "code",
      "source": [
        "cv2_imshow(cv2.Sobel(src=logo, ddepth=cv2.CV_64F, dx=0, dy=1, ksize=5))"
      ],
      "metadata": {
        "id": "OdexXlUITO9I"
      },
      "execution_count": null,
      "outputs": []
    },
    {
      "cell_type": "markdown",
      "source": [
        "laplacian"
      ],
      "metadata": {
        "id": "guWFjCM1Tnlh"
      }
    },
    {
      "cell_type": "code",
      "source": [
        "cv2_imshow(cv2.Laplacian(src=logo, ddepth=cv2.CV_64F))"
      ],
      "metadata": {
        "id": "cnotAytNTbOJ"
      },
      "execution_count": null,
      "outputs": []
    },
    {
      "cell_type": "code",
      "source": [
        "view = cv2.imread('view2.jpg')\n",
        "cv2_imshow(cv2.Laplacian(src=logo, ddepth=cv2.CV_64F))"
      ],
      "metadata": {
        "id": "VHDmjo7QUF1p"
      },
      "execution_count": null,
      "outputs": []
    },
    {
      "cell_type": "markdown",
      "source": [
        "canny"
      ],
      "metadata": {
        "id": "MigTfSx2VLvn"
      }
    },
    {
      "cell_type": "code",
      "source": [
        "cv2_imshow(cv2.Canny(image=logo, threshold1=0, threshold2=1))"
      ],
      "metadata": {
        "id": "mf-hxwwCUmHe"
      },
      "execution_count": null,
      "outputs": []
    },
    {
      "cell_type": "code",
      "source": [
        "cv2_imshow(cv2.Canny(image=logo, threshold1=100, threshold2=100))"
      ],
      "metadata": {
        "id": "Il_oZ1BTU9YV"
      },
      "execution_count": null,
      "outputs": []
    },
    {
      "cell_type": "markdown",
      "source": [
        "### Erozja"
      ],
      "metadata": {
        "id": "74-UkFlCVX1H"
      }
    },
    {
      "cell_type": "code",
      "source": [
        "logo = cv2.imread('python.png')\n",
        "cv2_imshow(logo)"
      ],
      "metadata": {
        "id": "RV8xDymZVZZ_"
      },
      "execution_count": null,
      "outputs": []
    },
    {
      "cell_type": "code",
      "source": [
        "kernel = np.ones((5, 5), np.uint8)\n",
        "cv2_imshow(cv2.erode(src=logo, kernel=kernel, iterations=1))"
      ],
      "metadata": {
        "id": "OsuPj5eTVnfW"
      },
      "execution_count": null,
      "outputs": []
    },
    {
      "cell_type": "code",
      "source": [
        "cv2_imshow(cv2.dilate(src=logo, kernel=kernel, iterations=1))"
      ],
      "metadata": {
        "id": "AeWppOGRWEzH"
      },
      "execution_count": null,
      "outputs": []
    },
    {
      "cell_type": "markdown",
      "source": [
        "### Instalacja I Import Bibliotek 3"
      ],
      "metadata": {
        "id": "BdF91DFXXJgo"
      }
    },
    {
      "cell_type": "code",
      "source": [
        "from google.colab.patches import cv2_imshow\n",
        "import numpy as np\n",
        "import cv2\n",
        "\n",
        "cv2.__version__"
      ],
      "metadata": {
        "id": "Kc4AqqLyXQRN"
      },
      "execution_count": null,
      "outputs": []
    },
    {
      "cell_type": "markdown",
      "source": [
        "### Wczytanie Obrazu 2"
      ],
      "metadata": {
        "id": "7pDeGzRVX84I"
      }
    },
    {
      "cell_type": "code",
      "source": [
        "img = cv2.imread('view2.jpg')\n",
        "cv2_imshow(img)"
      ],
      "metadata": {
        "id": "B2gJH1RuYBag"
      },
      "execution_count": null,
      "outputs": []
    },
    {
      "cell_type": "markdown",
      "source": [
        "### Dodanie Prostokąta"
      ],
      "metadata": {
        "id": "hp424Hg_YbDN"
      }
    },
    {
      "cell_type": "code",
      "source": [
        "copy = img.copy()\n",
        "cv2_imshow(cv2.rectangle(img=copy, pt1=(75, 80), pt2=(180,200), color=(0, 0, 255), thickness=2))"
      ],
      "metadata": {
        "id": "PqhFKWPvYf_t"
      },
      "execution_count": null,
      "outputs": []
    },
    {
      "cell_type": "code",
      "source": [
        "copy = img.copy()\n",
        "cv2_imshow(cv2.rectangle(img=copy, pt1=(140, 250), pt2=(350,470), color=(0, 0, 255), thickness=2))"
      ],
      "metadata": {
        "id": "MrLM-cLsZgw1"
      },
      "execution_count": null,
      "outputs": []
    },
    {
      "cell_type": "markdown",
      "source": [
        "### Dodanie Koła I Okręgu"
      ],
      "metadata": {
        "id": "eYv1YKqtaQDe"
      }
    },
    {
      "cell_type": "code",
      "source": [
        "copy = img.copy()\n",
        "cv2_imshow(cv2.circle(img=copy, center=(300, 300), radius=20, color=(255, 0, 0), thickness=-1))"
      ],
      "metadata": {
        "id": "qk4QVejMaUwU"
      },
      "execution_count": null,
      "outputs": []
    },
    {
      "cell_type": "code",
      "source": [
        "copy = img.copy()\n",
        "cv2_imshow(cv2.circle(img=copy, center=(300, 300), radius=20, color=(255, 0, 0), thickness=3))"
      ],
      "metadata": {
        "id": "06mQFk8fanKG"
      },
      "execution_count": null,
      "outputs": []
    },
    {
      "cell_type": "markdown",
      "source": [
        "### Dodanie Linii"
      ],
      "metadata": {
        "id": "-sg9Nq2ea65u"
      }
    },
    {
      "cell_type": "code",
      "source": [
        "copy = img.copy()\n",
        "cv2_imshow(cv2.rectangle(img=copy, pt1=(75, 80), pt2=(180,200), color=(0, 0, 255), thickness=2))"
      ],
      "metadata": {
        "id": "y4Atlvwia91i"
      },
      "execution_count": null,
      "outputs": []
    }
  ]
}